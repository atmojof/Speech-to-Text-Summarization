{
  "cells": [
    {
      "cell_type": "markdown",
      "metadata": {
        "id": "YgLEWSbpJwIl"
      },
      "source": [
        "# **Library**"
      ]
    },
    {
      "cell_type": "code",
      "execution_count": 14,
      "metadata": {
        "id": "ORSn2x-a0YK3"
      },
      "outputs": [],
      "source": [
        "# Import Library\n",
        "import PyPDF2\n",
        "from tqdm import tqdm\n",
        "from docx import Document\n",
        "from transformers import pipeline\n",
        "import time\n",
        "#from google.colab import files\n",
        "from reportlab.lib.pagesizes import letter\n",
        "from reportlab.pdfgen import canvas"
      ]
    },
    {
      "cell_type": "markdown",
      "metadata": {
        "id": "AFg63kz7zkIk"
      },
      "source": [
        "# **Input**"
      ]
    },
    {
      "cell_type": "markdown",
      "metadata": {
        "id": "dH43elGBkzdK"
      },
      "source": [
        "PDF File"
      ]
    },
    {
      "cell_type": "code",
      "execution_count": 15,
      "metadata": {
        "collapsed": true,
        "id": "8GTlelkzmQGS"
      },
      "outputs": [],
      "source": [
        "def open_PDF (path) : # Open the PDF file\n",
        "  # Menginisialisasi string kosong\n",
        "  concatenated_text = \"\"\n",
        "\n",
        "  with open(path, \"rb\") as file:\n",
        "      reader = PyPDF2.PdfReader(file)\n",
        "      pages = reader.pages\n",
        "      # Extract text from each page\n",
        "      for i in tqdm(range(len(reader.pages))):\n",
        "          text = pages[i].extract_text().strip()\n",
        "\n",
        "          # Remove the references section (assuming it starts with 'References' and ends at the end of the document)\n",
        "          if \"References\" in text:\n",
        "              text = text.split(\"References\")[0]\n",
        "  # Loop through the pages\n",
        "  for page in tqdm(pages):\n",
        "      # Extract the text from the page and remove any leading or trailing whitespace\n",
        "      text = page.extract_text().strip()\n",
        "\n",
        "      # Concat the extracted text to the concatenated text\n",
        "      concatenated_text += text\n",
        "      # Check token length\n",
        "  return concatenated_text"
      ]
    },
    {
      "cell_type": "markdown",
      "metadata": {
        "id": "OrBgWqvT3Uk4"
      },
      "source": [
        "Text File"
      ]
    },
    {
      "cell_type": "code",
      "execution_count": 16,
      "metadata": {
        "id": "JpqTzvPm3T7A"
      },
      "outputs": [],
      "source": [
        "def open_text (path) : # Mebaca file txt dan mengisi variable text\n",
        "  with open(path, 'r') as file:\n",
        "      text = file.read()\n",
        "  return text"
      ]
    },
    {
      "cell_type": "markdown",
      "metadata": {
        "id": "iMruxura5EDD"
      },
      "source": [
        "Docx File"
      ]
    },
    {
      "cell_type": "code",
      "execution_count": 5,
      "metadata": {
        "id": "Hi62fQL85GFd"
      },
      "outputs": [],
      "source": [
        "def open_docx (path) : # Membaca file docx\n",
        "  doc = Document(path)\n",
        "\n",
        "  # Extract text\n",
        "  text = []\n",
        "  for paragraph in doc.paragraphs:\n",
        "      text.append(paragraph.text)\n",
        "\n",
        "  # Join paragraphs into a single string\n",
        "  document_text = '/n'.join(text)\n",
        "  return document_text"
      ]
    },
    {
      "cell_type": "markdown",
      "metadata": {
        "id": "h3-nIPAats8w"
      },
      "source": [
        "**Input Classifier**"
      ]
    },
    {
      "cell_type": "code",
      "execution_count": 6,
      "metadata": {
        "id": "-FnQB33ttFtO"
      },
      "outputs": [],
      "source": [
        "def input_classifier (Path) : # Menentukan jenis file berdasarkan path yang diberikan\n",
        "  Jenis_File = Path[-3:]\n",
        "  # Memanggil function sesuai dengan path file\n",
        "  if Jenis_File == \"pdf\" :\n",
        "    text = open_PDF (Path)\n",
        "  elif Jenis_File == \"txt\" :\n",
        "    text = open_text (Path)\n",
        "  else :\n",
        "    text = open_docx (Path)\n",
        "  return text"
      ]
    },
    {
      "cell_type": "markdown",
      "metadata": {
        "id": "3e8cfh9s4yp-"
      },
      "source": [
        "# Bart Model (Extractive)"
      ]
    },
    {
      "cell_type": "code",
      "execution_count": 7,
      "metadata": {
        "id": "wl5Dm0GxtTyN"
      },
      "outputs": [],
      "source": [
        "def bart_summarizer (text) :\n",
        "  pipe = pipeline('summarization', model='facebook/bart-large-cnn')\n",
        "  inputs = pipe.tokenizer(text, return_tensors=\"pt\", truncation=False)\n",
        "  summaries = []\n",
        "\n",
        "  if len(inputs['input_ids'][0]) > 1024:  # Adjust the limit based on model's max tokens\n",
        "      # Split the text into smaller chunks\n",
        "      chunk_size = 1024  # Define your chunk size\n",
        "      chunks = [text[i:i + chunk_size] for i in range(0, len(text), chunk_size)]\n",
        "\n",
        "      for chunk in chunks:\n",
        "          pipe_out = pipe(chunk,max_length=130, min_length=30, do_sample=False)\n",
        "          print (pipe_out[0]['summary_text'])\n",
        "          summaries.append(pipe_out[0]['summary_text'])\n",
        "  else:\n",
        "      # If length is within limit, proceed with summarization\n",
        "      pipe_out = pipe(text)\n",
        "      summaries.append(pipe_out[0]['summary_text'])\n",
        "  paragraph = \"/n\".join(summaries)\n",
        "\n",
        "  return paragraph"
      ]
    },
    {
      "cell_type": "markdown",
      "metadata": {
        "id": "JNrvb3a16Tu4"
      },
      "source": [
        "# Pegasus Model (Abstractive)"
      ]
    },
    {
      "cell_type": "code",
      "execution_count": 8,
      "metadata": {
        "id": "6RE34sxZ1sNZ"
      },
      "outputs": [],
      "source": [
        "def pegasus_summarizer (text) :\n",
        "  pipe = pipeline('summarization', model ='google/pegasus-cnn_dailymail')\n",
        "  inputs = pipe.tokenizer(text, return_tensors=\"pt\", truncation=False)\n",
        "  summaries = []\n",
        "  if len(inputs['input_ids'][0]) > 1024:  # Adjust the limit based on model's max tokens\n",
        "      # Split the text into smaller chunks\n",
        "      chunk_size = 1024  # Define your chunk size\n",
        "      chunks = [text[i:i + chunk_size] for i in range(0, len(text), chunk_size)]\n",
        "\n",
        "      for chunk in chunks:\n",
        "          pipe_out = pipe(chunk,max_length=130, min_length=30, do_sample=False)\n",
        "          summaries.append(pipe_out[0]['summary_text'])\n",
        "  else:\n",
        "      # If length is within limit, proceed with summarization\n",
        "      pipe_out = pipe(text)\n",
        "      summaries.append(pipe_out[0]['summary_text'])\n",
        "  paragraph = \"/n\".join(summaries)\n",
        "\n",
        "  return paragraph"
      ]
    },
    {
      "cell_type": "markdown",
      "metadata": {
        "id": "K_3uhJ806rBx"
      },
      "source": [
        "# **Output**"
      ]
    },
    {
      "cell_type": "markdown",
      "metadata": {
        "id": "-rggd1BCxnT6"
      },
      "source": [
        "Output Txt"
      ]
    },
    {
      "cell_type": "code",
      "execution_count": 9,
      "metadata": {
        "id": "7ELes-ATwJbR"
      },
      "outputs": [],
      "source": [
        "def Output_txt(path,Summary_Bart,Summary_Pegasus) :  # Fungsi untuk mengexport summary ke file txt\n",
        "  # Open the file in write mode (creates the file if it doesn't exist)\n",
        "  with open(path, 'a') as file:\n",
        "      # Write the string to the file\n",
        "      file.write(\"Summary menggunakan model bart : \")\n",
        "      file.write(Summary_Bart +\"/n\")\n",
        "      file.write(\"Summary menggunakan model pegasus : \")\n",
        "      file.write(Summary_Pegasus)\n",
        "  #files.download(path)"
      ]
    },
    {
      "cell_type": "markdown",
      "metadata": {
        "id": "-_g9RJ83xpFA"
      },
      "source": [
        "Output PDF"
      ]
    },
    {
      "cell_type": "code",
      "execution_count": 10,
      "metadata": {
        "id": "yf0s00lBwb6a"
      },
      "outputs": [],
      "source": [
        "def Output_pdf(path,Summary_Bart,Summary_Pegasus) :  # Fungsi untuk mengexport summary ke file pdf\n",
        "\n",
        "  def wrap_text(text, width, font, size): # menyesuaikan output pdf agar tidak terpotong\n",
        "    # Create a list of lines\n",
        "    lines = []\n",
        "    words = text.split(' ')\n",
        "    current_line = ''\n",
        "\n",
        "    for word in words:\n",
        "        # Try adding the word to the current line and check its length\n",
        "        test_line = current_line + ' ' + word if current_line else word\n",
        "        test_width = canvas.Canvas('', pagesize=letter).stringWidth(test_line, font, size)\n",
        "\n",
        "        if test_width <= width:\n",
        "            # If the line fits, add the word to the current line\n",
        "            current_line = test_line\n",
        "        else:\n",
        "            # Otherwise, start a new line\n",
        "            lines.append(current_line)\n",
        "            current_line = word\n",
        "\n",
        "    # Add the last line\n",
        "    if current_line:\n",
        "        lines.append(current_line)\n",
        "\n",
        "    return lines\n",
        "\n",
        "\n",
        "  pdf_filename = path\n",
        "  # Mendefinisikan summary bart dan summary pegasus\n",
        "  my_string1 = \"Summary menggunakan model bart : \" + Summary_Bart\n",
        "  my_string2 = \"Summary menggunakan model pegasus : \" + Summary_Pegasus\n",
        "  c = canvas.Canvas(pdf_filename, pagesize=letter)\n",
        "\n",
        "  # Set font and size\n",
        "  c.setFont(\"Helvetica\", 12)\n",
        "  # Membuat margin untuk panjang dan lebar\n",
        "  margin = 40\n",
        "  width = letter[0] - 2 * margin\n",
        "  height = letter[1] - 2 * margin\n",
        "\n",
        "  # Wrap the text\n",
        "  lines1 = wrap_text(my_string1, width, \"Helvetica\", 12)\n",
        "  lines2 = wrap_text(my_string2, width, \"Helvetica\", 12)\n",
        "\n",
        "  y_position = height - margin  # Start at the top of the page\n",
        "  for line in lines1:\n",
        "      c.drawString(margin, y_position, line)\n",
        "      y_position -= 14  # Move down for the next line\n",
        "  for line in lines2:\n",
        "      c.drawString(margin, y_position, line)\n",
        "      y_position -= 14  # Move down for the next line\n",
        "  c.save()\n"
      ]
    },
    {
      "cell_type": "markdown",
      "metadata": {
        "id": "ft004GnOxqZn"
      },
      "source": [
        "Output Docx"
      ]
    },
    {
      "cell_type": "code",
      "execution_count": 11,
      "metadata": {
        "id": "Od2MCEo-xLh6"
      },
      "outputs": [],
      "source": [
        "def Output_docx(path,Summary_Bart,Summary_Pegasus) :  # Fungsi untuk mengexport summary ke file docx\n",
        "  doc = Document()\n",
        "  # Membuat Heading\n",
        "  doc.add_heading('Summaries', level=1)\n",
        "  doc.add_heading('Summary Bart', level=2)\n",
        "  # Menuliskan summary\n",
        "  doc.add_paragraph(Summary_Bart)\n",
        "  # Membuat Heading\n",
        "  doc.add_heading('Summary Pegasus', level=2)\n",
        "  # Menuliskan summary\n",
        "  doc.add_paragraph(Summary_Pegasus)\n",
        "\n",
        "  # Save the document\n",
        "  doc.save(path)\n"
      ]
    },
    {
      "cell_type": "markdown",
      "metadata": {
        "id": "Nq3AMINe27Tb"
      },
      "source": [
        "Output Docx"
      ]
    },
    {
      "cell_type": "code",
      "execution_count": 12,
      "metadata": {
        "id": "uwZTdrfYxkPZ"
      },
      "outputs": [],
      "source": [
        "#\n",
        "def output_classifier (Path,Summary_Bart,Summary_Pegasus) :\n",
        "  Jenis_File = Path[-3:]\n",
        "  if Jenis_File == \"pdf\" :\n",
        "    Output_pdf(Path,Summary_Bart,Summary_Pegasus)\n",
        "  elif Jenis_File == \"txt\" :\n",
        "    Output_txt(Path,Summary_Bart,Summary_Pegasus)\n",
        "  else :\n",
        "    Output_docx(Path,Summary_Bart,Summary_Pegasus)"
      ]
    },
    {
      "cell_type": "markdown",
      "metadata": {
        "id": "6K572r9v8t3w"
      },
      "source": [
        "# **Main**"
      ]
    },
    {
      "cell_type": "code",
      "execution_count": null,
      "metadata": {
        "colab": {
          "base_uri": "https://localhost:8080/",
          "height": 263
        },
        "id": "45NwIdH86tdh",
        "outputId": "c1e13689-5aad-4456-bbb8-ef1cad1d0295"
      },
      "outputs": [
        {
          "name": "stderr",
          "output_type": "stream",
          "text": [
            "  0%|          | 0/15 [00:00<?, ?it/s]"
          ]
        },
        {
          "name": "stderr",
          "output_type": "stream",
          "text": [
            "100%|██████████| 15/15 [00:01<00:00, 12.37it/s]\n",
            "100%|██████████| 15/15 [00:00<00:00, 16.68it/s]\n"
          ]
        },
        {
          "name": "stdout",
          "output_type": "stream",
          "text": [
            "2727\n"
          ]
        },
        {
          "name": "stderr",
          "output_type": "stream",
          "text": [
            "Device set to use cpu\n"
          ]
        },
        {
          "name": "stdout",
          "output_type": "stream",
          "text": [
            "Malaysia Property Market Report Q1 2023. Malaysia's economy expanded by 8.7% YoY in 2022. Service sector was the main contributor to Malaysia's economic growth.\n",
            "Malaysia is unlikely to experience a recession. Growing domestic demand and an increase in electrical and electronics, and the tourism sector job openings will help offset the slower external demand.\n",
            "Demand for rentals decreased by 4.0% QoQ in Q4 2022. The market may see greater optimism following the formation of the new government. The relaxation of the COVID-19 measures in China would boost the economy.\n",
            "PropertyGuru Malaysia Property Market Report Q1 2023. The asking prices of properties in Malaysia went up by 1.5% QoQ in Q4. The Sale Demand Index declined by 14.8%. The rental market fell by 4.0%.\n",
            "For the whole of 2022, the asking prices listed on PropertyGuru.com.my went up by 5.0%. The stock market and ringgit rose after the announcement of the Prime Minister. Existing homeowners are likely to increase housing prices.\n",
            "In 2022, the Sale Supply Index rose by 21.1% YoY. However, it eased by 1.0% as owners held off their decision to sell due to the General Election and festivities. The most viewed project was The Astaka @ 1 Bukit Senyum.\n",
            "Queens Residence @ Queens Waterfront topped the list in Penang. It is a mixed-use development that encompasses Queens Residence, Queens Sports Centre, and an international school.\n",
            "Country Heights Kajang in Selangor was ranked second, followed by Damansara Heights in Kuala Lumpur. Leisur e Farm in Johor was the most popular farm in the state.\n",
            "Malaysia Property Rental Market Index 50100150200250300350400450500. For the whole of 2022, the rise in asking prices and interest rates is expected to be higher.\n",
            "For the whole of 2022, the Rental Demand Index went up by 32.9%, and the rental price index rose by 11.5%. Rental Price index edged up by 2.8% QoQ in Q4 2022, as owners sought to offset the price  of inflation and rising interest rates. Unless the Malaysian economy experiences a significantly slowdown, asking rents are likely to remain stable or even appreciate in 2023.\n",
            "The Hipster was the most viewed non-Landed Rental Property in Q4. Emporis Kota Damansara was the second most viewed property. Leisure Farm recorded the most views among sales listings.\n",
            "Malaysia’s growth remains vulnerable                 to weaker-than-expected growth due to geopolitical tension and higher interest rates. Increasing interest rates and higher asking prices imply that equity-constrained buyers would either shift to the city fringe that is well served by public transport or rent.\n",
            "PropertyGuru Malaysia Property Market Report Q1 2023. Report presents three main indices – the Price Index, Supply Index, and Demand Index, for both the sales and rental markets.\n",
            "The Price, Supply and Demand Indices will use Q1 2018 as the base quarter. The Demand Index represents the proportion of interested property seekers for homes listed. The Supply Index provides a view of supply volumes in the market.\n",
            "PropertyGuru wants to simplify this process for property seekers, including first-time                 homebuyers and existing homeowners. In that vein, we created this report to help Malaysians understand the movement of                 the property market better.\n",
            "Malaysia. arket Report Q1 2023. For media or press inquiries, or to understand more about the Malaysia.Property Market Report, contact mediaenquiry_my@propertyguru.com.\n",
            "PropertyGuru is Southeast Asia’s leading PropTech company, and the preferred destination for over 44 million property seekers every month. PropertyGuru empowers property seekers with more than 3.5 million real estate listings across Singapore, Malaysia, Thailand, Indonesia, and Vietnam.\n",
            "PropertyGuru Malaysia offers end-to-end solutions for Malaysian property agents (AgentNet) and developers. The company is part of PropertyGuru Group (NYSE: PGRU), Southeast Asia’s leading property technology company.\n",
            "Malaysia Property Market Report Q1 2023. Malaysia's economy expanded by 8.7% YoY in 2022. Service sector was the main contributor to Malaysia's economic growth.\n",
            "Malaysia is unlikely to experience a recession. Growing domestic demand and an increase in electrical and electronics, and the tourism sector job openings will help offset the slower external demand.\n",
            "Demand for rentals decreased by 4.0% QoQ in Q4 2022. The market may see greater optimism following the formation of the new government. The relaxation of the COVID-19 measures in China would boost the economy.\n",
            "PropertyGuru Malaysia Property Market Report Q1 2023. The asking prices of properties in Malaysia went up by 1.5% QoQ in Q4. The Sale Demand Index declined by 14.8%. The rental market fell by 4.0%.\n",
            "For the whole of 2022, the asking prices listed on PropertyGuru.com.my went up by 5.0%. The stock market and ringgit rose after the announcement of the Prime Minister. Existing homeowners are likely to increase housing prices.\n",
            "In 2022, the Sale Supply Index rose by 21.1% YoY. However, it eased by 1.0% as owners held off their decision to sell due to the General Election and festivities. The most viewed project was The Astaka @ 1 Bukit Senyum.\n",
            "Queens Residence @ Queens Waterfront topped the list in Penang. It is a mixed-use development that encompasses Queens Residence, Queens Sports Centre, and an international school.\n",
            "Country Heights Kajang in Selangor was ranked second, followed by Damansara Heights in Kuala Lumpur. Leisur e Farm in Johor was the most popular farm in the state.\n",
            "Malaysia Property Rental Market Index 50100150200250300350400450500. For the whole of 2022, the rise in asking prices and interest rates is expected to be higher.\n",
            "For the whole of 2022, the Rental Demand Index went up by 32.9%, and the rental price index rose by 11.5%. Rental Price index edged up by 2.8% QoQ in Q4 2022, as owners sought to offset the price  of inflation and rising interest rates. Unless the Malaysian economy experiences a significantly slowdown, asking rents are likely to remain stable or even appreciate in 2023.\n",
            "The Hipster was the most viewed non-Landed Rental Property in Q4. Emporis Kota Damansara was the second most viewed property. Leisure Farm recorded the most views among sales listings.\n",
            "Malaysia’s growth remains vulnerable                 to weaker-than-expected growth due to geopolitical tension and higher interest rates. Increasing interest rates and higher asking prices imply that equity-constrained buyers would either shift to the city fringe that is well served by public transport or rent.\n",
            "PropertyGuru Malaysia Property Market Report Q1 2023. Report presents three main indices – the Price Index, Supply Index, and Demand Index, for both the sales and rental markets.\n",
            "The Price, Supply and Demand Indices will use Q1 2018 as the base quarter. The Demand Index represents the proportion of interested property seekers for homes listed. The Supply Index provides a view of supply volumes in the market.\n",
            "PropertyGuru wants to simplify this process for property seekers, including first-time                 homebuyers and existing homeowners. In that vein, we created this report to help Malaysians understand the movement of                 the property market better.\n",
            "Malaysia. arket Report Q1 2023. For media or press inquiries, or to understand more about the Malaysia.Property Market Report, contact mediaenquiry_my@propertyguru.com.\n",
            "PropertyGuru is Southeast Asia’s leading PropTech company, and the preferred destination for over 44 million property seekers every month. PropertyGuru empowers property seekers with more than 3.5 million real estate listings across Singapore, Malaysia, Thailand, Indonesia, and Vietnam.\n",
            "PropertyGuru Malaysia offers end-to-end solutions for Malaysian property agents (AgentNet) and developers. The company is part of PropertyGuru Group (NYSE: PGRU), Southeast Asia’s leading property technology company.\n",
            "3946\n",
            "600\n"
          ]
        },
        {
          "data": {
            "application/vnd.jupyter.widget-view+json": {
              "model_id": "789de6ff93944cecbf81aaeca2382683",
              "version_major": 2,
              "version_minor": 0
            },
            "text/plain": [
              "config.json:   0%|          | 0.00/1.12k [00:00<?, ?B/s]"
            ]
          },
          "metadata": {},
          "output_type": "display_data"
        },
        {
          "name": "stderr",
          "output_type": "stream",
          "text": [
            "c:\\Users\\firmansyah.atmojo\\AppData\\Local\\Programs\\Python\\Python311\\Lib\\site-packages\\huggingface_hub\\file_download.py:140: UserWarning: `huggingface_hub` cache-system uses symlinks by default to efficiently store duplicated files but your machine does not support them in C:\\Users\\firmansyah.atmojo\\.cache\\huggingface\\hub\\models--google--pegasus-cnn_dailymail. Caching files will still work but in a degraded version that might require more space on your disk. This warning can be disabled by setting the `HF_HUB_DISABLE_SYMLINKS_WARNING` environment variable. For more details, see https://huggingface.co/docs/huggingface_hub/how-to-cache#limitations.\n",
            "To support symlinks on Windows, you either need to activate Developer Mode or to run Python as an administrator. In order to activate developer mode, see this article: https://docs.microsoft.com/en-us/windows/apps/get-started/enable-your-device-for-development\n",
            "  warnings.warn(message)\n"
          ]
        },
        {
          "data": {
            "application/vnd.jupyter.widget-view+json": {
              "model_id": "609f590ce00a4c69b89d8bf3b8a6d754",
              "version_major": 2,
              "version_minor": 0
            },
            "text/plain": [
              "pytorch_model.bin:   0%|          | 0.00/2.28G [00:00<?, ?B/s]"
            ]
          },
          "metadata": {},
          "output_type": "display_data"
        }
      ],
      "source": [
        "start_time = time.time()  # Record the start time\n",
        "path = \"C:/Users/firmansyah.atmojo/OneDrive - PT. Bumi Serpong Damai Tbk/5 Syllabus/Property Report[1].pdf\"\n",
        "text = input_classifier (path)\n",
        "\n",
        "word_count = len(text.split())\n",
        "print (word_count)\n",
        "\n",
        "# Bart Model\n",
        "Summary_Bart = bart_summarizer (text)\n",
        "print(Summary_Bart)\n",
        "print (len (Summary_Bart))\n",
        "\n",
        "word_count_bart = len(Summary_Bart.split())\n",
        "print (word_count_bart)\n",
        "\n",
        "# Pegasus Model\n",
        "Summary_Pegasus = pegasus_summarizer (text)\n",
        "\n",
        "word_count_pegasus = len(Summary_Pegasus.split())\n",
        "print (word_count_pegasus)\n",
        "\n",
        "print(Summary_Pegasus)\n",
        "print (len (Summary_Pegasus))\n",
        "\n",
        "Output_path = str(input(\" Output Path File : \"))\n",
        "output_classifier (Output_path,Summary_Bart,Summary_Pegasus)\n",
        "\n",
        "end_time = time.time()\n",
        "elapsed_time = end_time - start_time\n",
        "print(f\"Runtime: {elapsed_time} seconds\")"
      ]
    },
    {
      "cell_type": "code",
      "execution_count": null,
      "metadata": {},
      "outputs": [],
      "source": []
    }
  ],
  "metadata": {
    "accelerator": "GPU",
    "colab": {
      "collapsed_sections": [
        "YgLEWSbpJwIl",
        "AFg63kz7zkIk",
        "3e8cfh9s4yp-",
        "JNrvb3a16Tu4"
      ],
      "gpuType": "T4",
      "provenance": []
    },
    "kernelspec": {
      "display_name": "Python 3",
      "name": "python3"
    },
    "language_info": {
      "codemirror_mode": {
        "name": "ipython",
        "version": 3
      },
      "file_extension": ".py",
      "mimetype": "text/x-python",
      "name": "python",
      "nbconvert_exporter": "python",
      "pygments_lexer": "ipython3",
      "version": "3.11.4"
    }
  },
  "nbformat": 4,
  "nbformat_minor": 0
}
