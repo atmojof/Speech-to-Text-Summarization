{
 "cells": [
  {
   "cell_type": "code",
   "execution_count": 19,
   "metadata": {},
   "outputs": [],
   "source": [
    "import os\n",
    "import google.generativeai as genai\n",
    "from docx import Document\n",
    "import PyPDF2"
   ]
  },
  {
   "cell_type": "code",
   "execution_count": 3,
   "metadata": {},
   "outputs": [],
   "source": [
    "# Configure the Gemini API with your Google API key\n",
    "GOOGLE_API_KEY = os.getenv(\"GOOGLE_API_KEY\")\n",
    "genai.configure(api_key=GOOGLE_API_KEY)"
   ]
  },
  {
   "cell_type": "code",
   "execution_count": 20,
   "metadata": {},
   "outputs": [],
   "source": [
    "def read_file(file_path):\n",
    "    file_extension = os.path.splitext(file_path)[1].lower()\n",
    "    \n",
    "    if file_extension == '.docx':\n",
    "        doc = Document(file_path)\n",
    "        full_text = []\n",
    "        for para in doc.paragraphs:\n",
    "            full_text.append(para.text)\n",
    "        return '\\n'.join(full_text)\n",
    "    \n",
    "    elif file_extension == '.txt':\n",
    "        with open(file_path, 'r') as file:\n",
    "            return file.read()\n",
    "    \n",
    "    elif file_extension == '.pdf':\n",
    "        pdf_text = []\n",
    "        with open(file_path, 'rb') as file:\n",
    "            reader = PyPDF2.PdfFileReader(file)\n",
    "            for page_num in range(reader.numPages):\n",
    "                page = reader.getPage(page_num)\n",
    "                pdf_text.append(page.extract_text())\n",
    "        return '\\n'.join(pdf_text)\n",
    "    \n",
    "    else:\n",
    "        raise ValueError(\"Unsupported file extension\")\n",
    "\n",
    "def summarize_text(text):\n",
    "    try:\n",
    "        # Create a model instance\n",
    "        model = genai.GenerativeModel('models/gemini-1.5-flash')\n",
    "        \n",
    "        # Define the prompt\n",
    "        prompt = \"Summarize the following text.\"\n",
    "        \n",
    "        # Generate content using the model\n",
    "        response = model.generate_content(contents=f\"{prompt}/n/n{text}\")\n",
    "        \n",
    "        # Extract the summary from the response\n",
    "        summary = response.text\n",
    "        return summary\n",
    "    except Exception as e:\n",
    "        return f\"An error occurred: {str(e)}\""
   ]
  },
  {
   "cell_type": "code",
   "execution_count": 21,
   "metadata": {},
   "outputs": [
    {
     "name": "stdout",
     "output_type": "stream",
     "text": [
      "This is a long sales presentation for villas located on a golf course in Pecatu, Bali.  The presentation highlights several key selling points:\n",
      "\n",
      "* **Award-winning design:** The villas won two awards for their design and integration with nature, being the only villas in Indonesia directly connected to a golf course.\n",
      "* **Prime location:** The development is situated on one of Indonesia's top 10 golf courses (ranked 3rd best), in a rapidly appreciating area of Pecatu.  The villas offer stunning golf course views.\n",
      "* **Exclusive access:**  A one-gate system ensures privacy and security.\n",
      "* **Two phases of development:** Phase 1 (24 units) is sold out, and Phase 2 (43 units) is currently being marketed.  Future phases are planned.\n",
      "* **Villa features:**  Units range from 3 to 4 bedrooms, some with rooftop terraces, private pools, and various layouts.  Fully furnished (excluding TVs, refrigerators, washing machines, and curtains).\n",
      "* **Investment potential:** The presentation emphasizes high rental income potential, particularly through long-term lease agreements (listo holds) with expats,  targeting a largely international clientele.  Financial projections are presented, showcasing potential returns on investment.  The presenter suggests that units in the orange and yellow blocks are particularly good investment options due to their price point.\n",
      "* **Developer credibility:** The presentation addresses concerns about land ownership and permits, assuring potential buyers of clear title and a reputable developer with experience in other high-end projects.\n",
      "* **Water security:**  Unlike other areas in Jimbaran, the villas have a secure, independent water supply via desalination.\n",
      "\n",
      "\n",
      "The presentation concludes by encouraging potential buyers to visit the site to see the villas and surrounding area.  The presenter emphasizes the unique selling proposition: direct access to the golf course from the villas, a feature unmatched anywhere else in Asia.\n",
      "\n"
     ]
    }
   ],
   "source": [
    "# Example usage\n",
    "docx_file_path = \"C:/Users/firmansyah.atmojo/OneDrive - PT. Bumi Serpong Damai Tbk/2 Projects/DA Projects/Speech to Text/Pandawa/Pandawa Unsummarized.docx\"\n",
    "text_file_path = \"C:/Users/firmansyah.atmojo/OneDrive - PT. Bumi Serpong Damai Tbk/2 Projects/DA Projects/Speech to Text/The Links Golf/The Links Golf Unsummarized.txt\"\n",
    "\n",
    "text = read_file(text_file_path)\n",
    "summary = summarize_text(text)\n",
    "print(summary)"
   ]
  },
  {
   "cell_type": "code",
   "execution_count": null,
   "metadata": {},
   "outputs": [],
   "source": []
  }
 ],
 "metadata": {
  "kernelspec": {
   "display_name": "Python 3",
   "language": "python",
   "name": "python3"
  },
  "language_info": {
   "codemirror_mode": {
    "name": "ipython",
    "version": 3
   },
   "file_extension": ".py",
   "mimetype": "text/x-python",
   "name": "python",
   "nbconvert_exporter": "python",
   "pygments_lexer": "ipython3",
   "version": "3.11.4"
  }
 },
 "nbformat": 4,
 "nbformat_minor": 2
}
